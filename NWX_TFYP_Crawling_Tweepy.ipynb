{
 "cells": [
  {
   "cell_type": "code",
   "execution_count": null,
   "metadata": {},
   "outputs": [],
   "source": [
    "#Import Modules and Function\n",
    "import tweepy\n",
    "import pymongo\n",
    "import json\n",
    "import pandas as pd\n",
    "import time"
   ]
  },
  {
   "cell_type": "code",
   "execution_count": null,
   "metadata": {},
   "outputs": [],
   "source": [
    "# TWITTER API Instance\n",
    "\n",
    "# REQUEST TOKEN KEY (get keys/screts from API Account)\n",
    "ACCESS_TOKEN=\"XXX\" \n",
    "ACCESS_TOKEN_SECRET=\"XXX\"\n",
    "CONSUMER_KEY=\"XXX\"\n",
    "CONSUMER_SECRET=\"XXX\"\n",
    "\n",
    "# Twitter Authentication \n",
    "auth = tweepy.OAuthHandler(CONSUMER_KEY,CONSUMER_SECRET)\n",
    "auth.set_access_token(ACCESS_TOKEN,ACCESS_TOKEN_SECRET)\n",
    "\n",
    "# create API instance\n",
    "api = tweepy.API(auth)"
   ]
  },
  {
   "cell_type": "code",
   "execution_count": null,
   "metadata": {},
   "outputs": [],
   "source": [
    "# MONGODB Instance\n",
    "\n",
    "# Localhost\n",
    "mongo_client = pymongo.MongoClient('mongodb://127.0.0.1:27017/')\n",
    "mongo_db = mongo_client['datafyp']\n",
    "mongo_collection = mongo_db['fyptwitter']\n",
    "\n",
    "# NWX: MongoDB must be installed and deployed beforehand. \n",
    "# Here 127.0.0.1 means local server"
   ]
  },
  {
   "cell_type": "code",
   "execution_count": null,
   "metadata": {},
   "outputs": [],
   "source": [
    "# Function to stream Tweets:\n",
    "# --- Created_at, id, username, language, quote (full text), retweet (full text)\n",
    "\n",
    "class myStreamListener(tweepy.StreamListener):\n",
    "    \"\"\"\n",
    "    Derived Class for Stream-Listener\n",
    "    \"\"\"\n",
    "    def __init__(self, mongoCollection, starttime='0600', endtime='1000'):\n",
    "        # original init to be retained (init api)\n",
    "        # adding mongoDB collection to class\n",
    "        # add default start and end time\n",
    "        super().__init__()\n",
    "        self.mongoCollection = mongoCollection \n",
    "        self.starttime = starttime\n",
    "        self.endtime = endtime\n",
    "\n",
    "    # Child-Function to process Tweet-Statuses from Listener\n",
    "    # write data into MongoDB directly\n",
    "    def on_status(self, status):\n",
    "        \n",
    "        try:\n",
    "            # crawl between specific timestamp\n",
    "            if int(time.strftime(\"%H%M\", time.localtime())) > int(self.starttime) and int(time.strftime(\"%H%M\", time.localtime())) < int(self.endtime):\n",
    "                # Get Quote-Tweet Full-Text, if available\n",
    "                varQuote = True if ((status.is_quote_status == True) if hasattr(status, 'is_quote_status') else False) else False\n",
    "                if varQuote:\n",
    "                    varQuoteText = status.quoted_status.text if (status.quoted_status.truncated == False) else status.quoted_status.extended_tweet['full_text']\n",
    "                else:\n",
    "                    varQuoteText = \"\"\n",
    "                varRetweet = True if ((status.retweeted_status) if hasattr(status, 'retweeted_status') else False) else False\n",
    "                varFullText = status.text if (status.truncated == False) else status.extended_tweet['full_text']\n",
    "                if varRetweet:\n",
    "                    varFullText = status.retweeted_status.text if (status.retweeted_status.truncated == False) else status.retweeted_status.extended_tweet['full_text']\n",
    "\n",
    "                self.mongoCollection.insert_one({\n",
    "                    \"created_at\": status.created_at, \n",
    "                    \"id\": status.id,\n",
    "                    \"screen_name:\": status.user.screen_name,\n",
    "                    \"lang\": status.lang,\n",
    "                    \"is_quote_status\": varQuote,\n",
    "                    \"is_retweet_status\": varRetweet,\n",
    "                    \"full_text\": varFullText,\n",
    "                    \"quote_text\": varQuoteText\n",
    "                })\n",
    "        except:\n",
    "            print('Error:',time.strftime(\"%Y/%m/%d-%H:%M:%S\", time.localtime()))\n",
    "            pass\n",
    "\n",
    "    # Child-Function for Error \n",
    "    # Stop only when getting status 420 (rate limited), else continue\n",
    "    def on_error(self, status_code):\n",
    "        if status_code == 420:\n",
    "            return False\n",
    "        \n",
    "    def tryout(self):\n",
    "        try:\n",
    "            print(self.mongoCollection.find_one())\n",
    "        except:\n",
    "            print('Error:',time.strftime(\"%Y/%m/%d-%H:%M:%S\", time.localtime()))\n"
   ]
  },
  {
   "cell_type": "code",
   "execution_count": null,
   "metadata": {
    "scrolled": false
   },
   "outputs": [],
   "source": [
    "# Endless Loop for API streaming\n",
    "\n",
    "keywords = ['#donaldtrump', '#joebiden', 'donald trump', 'joe biden']\n",
    "\n",
    "# crawl between specific time frame (GMT+8 local time)\n",
    "myStartTime = '0600'\n",
    "myEndTime = '1000'\n",
    "\n",
    "while True:\n",
    "    try:\n",
    "        # Connect/reconnect the stream\n",
    "        stream_listener = myStreamListener(mongo_collection, starttime=myStartTime, endtime=myEndTime)\n",
    "        stream = tweepy.Stream(auth=api.auth, listener=stream_listener)\n",
    "        stream.filter(track=keywords)\n",
    "                \n",
    "    except:\n",
    "        # Oh well, reconnect and keep tracking\n",
    "        print('Error (Unknown):',time.strftime(\"%Y/%m/%d-%H:%M:%S\", time.localtime()))\n",
    "        continue"
   ]
  }
 ],
 "metadata": {
  "kernelspec": {
   "display_name": "Python 3",
   "language": "python",
   "name": "python3"
  },
  "language_info": {
   "codemirror_mode": {
    "name": "ipython",
    "version": 3
   },
   "file_extension": ".py",
   "mimetype": "text/x-python",
   "name": "python",
   "nbconvert_exporter": "python",
   "pygments_lexer": "ipython3",
   "version": "3.7.4"
  }
 },
 "nbformat": 4,
 "nbformat_minor": 2
}
