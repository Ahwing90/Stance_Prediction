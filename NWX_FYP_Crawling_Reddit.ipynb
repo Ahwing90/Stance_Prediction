{
 "cells": [
  {
   "cell_type": "code",
   "execution_count": null,
   "metadata": {},
   "outputs": [],
   "source": [
    "#Import Modules and Function\n",
    "import tweepy\n",
    "import pymongo\n",
    "import json\n",
    "import praw\n",
    "# import requests\n",
    "# import numpy as np\n",
    "import pandas as pd\n",
    "import time\n",
    "from http.client import IncompleteRead\n",
    "\n",
    "import pprint"
   ]
  },
  {
   "cell_type": "code",
   "execution_count": null,
   "metadata": {},
   "outputs": [],
   "source": [
    "# REDDIT API Instance\n",
    "CLIENT_ID = \"XXX\" # Client ID from Reddit API Account\n",
    "CLIENT_SECRET = \"XXX\" # Client Secret from API Account"
   ]
  },
  {
   "cell_type": "code",
   "execution_count": null,
   "metadata": {},
   "outputs": [],
   "source": [
    "# MONGODB Instance\n",
    "\n",
    "# Localhost\n",
    "mongo_client = pymongo.MongoClient('mongodb://127.0.0.1:27017/') \n",
    "mongo_db = mongo_client['datafyp']\n",
    "mongo_collection = mongo_db['fypreddit']\n",
    "\n",
    "# NWX: MongoDB must be installed and deployed beforehand. \n",
    "# Here 127.0.0.1 means local server"
   ]
  },
  {
   "cell_type": "code",
   "execution_count": null,
   "metadata": {},
   "outputs": [],
   "source": [
    "# Additional Function to stream both Submissions & Comments at the same time\n",
    "def submissions_and_comments(subreddit, **stream_options):\n",
    "    results = []\n",
    "    results.extend(subreddit.new(**stream_options))\n",
    "    results.extend(subreddit.comments(**stream_options))\n",
    "    results.sort(key=lambda post: post.created_utc, reverse=True)\n",
    "    return results"
   ]
  }
 ],
 "metadata": {
  "kernelspec": {
   "display_name": "Python 3",
   "language": "python",
   "name": "python3"
  },
  "language_info": {
   "codemirror_mode": {
    "name": "ipython",
    "version": 3
   },
   "file_extension": ".py",
   "mimetype": "text/x-python",
   "name": "python",
   "nbconvert_exporter": "python",
   "pygments_lexer": "ipython3",
   "version": "3.7.4"
  }
 },
 "nbformat": 4,
 "nbformat_minor": 2
}
